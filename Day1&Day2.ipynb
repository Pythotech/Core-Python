{
 "cells": [
  {
   "cell_type": "code",
   "execution_count": 1,
   "metadata": {},
   "outputs": [],
   "source": [
    "def pattern(num):\n",
    "    for i in range(num):\n",
    "        for j in range(0,i):\n",
    "            print(\"*\",end=\"\")\n",
    "        print(\"\\n\")\n",
    "        \n",
    "   \n",
    "    \n",
    "    "
   ]
  },
  {
   "cell_type": "code",
   "execution_count": 43,
   "metadata": {},
   "outputs": [
    {
     "name": "stdout",
     "output_type": "stream",
     "text": [
      "\n",
      "\n",
      "*\n",
      "\n",
      "**\n",
      "\n",
      "***\n",
      "\n",
      "****\n",
      "\n"
     ]
    }
   ],
   "source": [
    "pattern(5)\n"
   ]
  },
  {
   "cell_type": "code",
   "execution_count": 15,
   "metadata": {},
   "outputs": [
    {
     "name": "stdout",
     "output_type": "stream",
     "text": [
      "\n",
      "\n",
      "*\n",
      "\n",
      "**\n",
      "\n",
      "***\n",
      "\n",
      "****\n",
      "\n",
      "*****\n",
      "\n",
      "******\n",
      "\n"
     ]
    }
   ],
   "source": [
    "pattern(7)\n"
   ]
  },
  {
   "cell_type": "code",
   "execution_count": 5,
   "metadata": {},
   "outputs": [],
   "source": [
    "def add_two_num(num1,num2):\n",
    "    return num1+num2"
   ]
  },
  {
   "cell_type": "code",
   "execution_count": 6,
   "metadata": {},
   "outputs": [
    {
     "name": "stdout",
     "output_type": "stream",
     "text": [
      "57 57 57 57\n"
     ]
    }
   ],
   "source": [
    "print(add_two_num(23,34),add_two_num(23,34),add_two_num(23,34),add_two_num(23,34))"
   ]
  },
  {
   "cell_type": "code",
   "execution_count": 15,
   "metadata": {},
   "outputs": [
    {
     "name": "stdout",
     "output_type": "stream",
     "text": [
      "please enter the number for factorial5\n",
      "the factorial is 24\n"
     ]
    }
   ],
   "source": [
    "num=int(input(\"please enter the number for factorial\"))\n",
    "fact=1\n",
    "for i in range(1,num):\n",
    "    fact=fact*i\n",
    "print(\"the factorial is\",fact)    \n",
    "    "
   ]
  },
  {
   "cell_type": "code",
   "execution_count": 17,
   "metadata": {},
   "outputs": [],
   "source": [
    "if 3<4:\n",
    "    pass\n",
    "else:\n",
    "    print('wrong')"
   ]
  },
  {
   "cell_type": "code",
   "execution_count": 24,
   "metadata": {},
   "outputs": [
    {
     "name": "stdout",
     "output_type": "stream",
     "text": [
      "am\n",
      "a\n",
      "m\n",
      "a\n",
      "n\n"
     ]
    }
   ],
   "source": [
    "str = 'aman'\n",
    "str1=str[0:2]\n",
    "print(str1)\n",
    "for i in str:\n",
    "    print(i)"
   ]
  },
  {
   "cell_type": "code",
   "execution_count": 21,
   "metadata": {},
   "outputs": [
    {
     "data": {
      "text/plain": [
       "4"
      ]
     },
     "execution_count": 21,
     "metadata": {},
     "output_type": "execute_result"
    }
   ],
   "source": [
    "len(str)"
   ]
  },
  {
   "cell_type": "code",
   "execution_count": 29,
   "metadata": {},
   "outputs": [
    {
     "name": "stdout",
     "output_type": "stream",
     "text": [
      "**********\n",
      "\n",
      "*********\n",
      "\n",
      "********\n",
      "\n",
      "*******\n",
      "\n",
      "******\n",
      "\n",
      "*****\n",
      "\n",
      "****\n",
      "\n",
      "***\n",
      "\n",
      "**\n",
      "\n",
      "*\n",
      "\n"
     ]
    }
   ],
   "source": [
    "def pattern(num):\n",
    "    for i in range(num):\n",
    "        for j in range(i,num):\n",
    "            print(\"*\",end=\"\")\n",
    "        print(\"\\n\")\n",
    "pattern(10)\n"
   ]
  },
  {
   "cell_type": "code",
   "execution_count": 9,
   "metadata": {},
   "outputs": [
    {
     "name": "stdout",
     "output_type": "stream",
     "text": [
      "enter the range:5\n",
      "    a\n",
      "\n",
      "   aaa\n",
      "\n",
      "  aaaaa\n",
      "\n",
      " aaaaaaa\n",
      "\n"
     ]
    }
   ],
   "source": [
    "num=int(input(\"enter the range:\"))\n",
    "for i in range(1,num):\n",
    "    for j in range(i,num):\n",
    "        print(\" \",end=\"\")\n",
    "    for k in range(0,2*i-1):\n",
    "        print(\"a\",end=\"\")\n",
    "    print(\"\\n\")    "
   ]
  },
  {
   "cell_type": "code",
   "execution_count": 11,
   "metadata": {},
   "outputs": [
    {
     "name": "stdout",
     "output_type": "stream",
     "text": [
      "enter the range:20\n",
      "                   *\n",
      "\n",
      "                  **\n",
      "\n",
      "                 ***\n",
      "\n",
      "                ****\n",
      "\n",
      "               *****\n",
      "\n",
      "              ******\n",
      "\n",
      "             *******\n",
      "\n",
      "            ********\n",
      "\n",
      "           *********\n",
      "\n",
      "          **********\n",
      "\n",
      "         ***********\n",
      "\n",
      "        ************\n",
      "\n",
      "       *************\n",
      "\n",
      "      **************\n",
      "\n",
      "     ***************\n",
      "\n",
      "    ****************\n",
      "\n",
      "   *****************\n",
      "\n",
      "  ******************\n",
      "\n",
      " *******************\n",
      "\n"
     ]
    }
   ],
   "source": [
    "num=int(input(\"enter the range:\"))\n",
    "for i in range(1,num):\n",
    "    for j in range(i,num):\n",
    "        print(\" \",end=\"\")\n",
    "    for k in range(0,i):\n",
    "        print(\"*\",end=\"\")\n",
    "    print(\"\\n\")  "
   ]
  },
  {
   "cell_type": "code",
   "execution_count": 12,
   "metadata": {},
   "outputs": [
    {
     "name": "stdout",
     "output_type": "stream",
     "text": [
      "hello TMU\n",
      "30\n",
      "TMUTMUTMUTMUTMU\n",
      " j\n"
     ]
    }
   ],
   "source": [
    "print(\"hello TMU\")\n",
    "a=10\n",
    "b=20\n",
    "print(a+b)\n",
    "for i in range(5):\n",
    "    print(\"TMU\",end=\"\")\n",
    "str=\"harji\"\n",
    "a,b,c,d,e=str\n",
    "print(\"\\n\",d)\n"
   ]
  },
  {
   "cell_type": "code",
   "execution_count": 15,
   "metadata": {},
   "outputs": [
    {
     "name": "stdout",
     "output_type": "stream",
     "text": [
      "\n",
      " enter the number:2 \n",
      "\n",
      " enter the 2nd number2\n",
      "numbers are equal\n"
     ]
    }
   ],
   "source": [
    "num1=int(input(\"\\n enter the number:\"))\n",
    "num2=int(input(\"\\n enter the 2nd number\"))\n",
    "if num1>num2:\n",
    "    print(\"1st number is greater\")\n",
    "elif num1==num2:\n",
    "    print(\"numbers are equal\")\n",
    "else:    \n",
    "    print(\"2nd number is greater\")\n",
    "    "
   ]
  },
  {
   "cell_type": "code",
   "execution_count": 22,
   "metadata": {},
   "outputs": [
    {
     "name": "stdout",
     "output_type": "stream",
     "text": [
      "[1, 2, 3, 4, 5, 6, 7, 8, (12, 'abcd', 12), 'abc']\n"
     ]
    }
   ],
   "source": [
    "list=[1,2,3,4,5,6,7,8,(12,\"abcd\",12),\"abc\"]\n",
    "print(list)"
   ]
  },
  {
   "cell_type": "code",
   "execution_count": 7,
   "metadata": {},
   "outputs": [
    {
     "name": "stdout",
     "output_type": "stream",
     "text": [
      "['j', 'i', 'n', 'd', 'e']\n"
     ]
    }
   ],
   "source": [
    "str=\"hajinder\"\n",
    "a,d,*b,c=str\n",
    "print(b)"
   ]
  },
  {
   "cell_type": "code",
   "execution_count": 10,
   "metadata": {},
   "outputs": [
    {
     "name": "stdout",
     "output_type": "stream",
     "text": [
      "enter the number:12\n",
      "enter the 2nd number:23\n",
      "a= 12\n",
      "b= 23\n",
      "after swapping:\n",
      "a= 23\n",
      "b= 12\n"
     ]
    }
   ],
   "source": [
    "a=int(input(\"enter the number:\"))\n",
    "b=int(input(\"enter the 2nd number:\"))\n",
    "print(\"a=\",a)\n",
    "print(\"b=\",b)\n",
    "temp=a\n",
    "a=b\n",
    "b=temp\n",
    "print(\"after swapping:\")\n",
    "print(\"a=\",a)\n",
    "print(\"b=\",b)"
   ]
  },
  {
   "cell_type": "code",
   "execution_count": 1,
   "metadata": {},
   "outputs": [
    {
     "name": "stdout",
     "output_type": "stream",
     "text": [
      "[1, 2, 3, 4]\n"
     ]
    }
   ],
   "source": [
    "list=[1,2,3,4,5,6,7,8,(12,\"abcd\",12),\"abc\"]\n",
    "print(list[0:4])"
   ]
  },
  {
   "cell_type": "code",
   "execution_count": 2,
   "metadata": {},
   "outputs": [
    {
     "name": "stdout",
     "output_type": "stream",
     "text": [
      "\n",
      " Enter the Number:123\n",
      "\n",
      " The reverse is: 321\n"
     ]
    }
   ],
   "source": [
    "num=int(input(\"\\n Enter the Number:\"))\n",
    "num_count=len(str(num))\n",
    "r=0\n",
    "for i in range(num_count):\n",
    "        n=num%10\n",
    "        r=r*10+n\n",
    "        num=int(num/10)\n",
    "print(\"\\n The reverse is:\",r)    "
   ]
  },
  {
   "cell_type": "code",
   "execution_count": 5,
   "metadata": {},
   "outputs": [
    {
     "name": "stdout",
     "output_type": "stream",
     "text": [
      "[0, 2, 4, 6, 8, 10, 12, 14, 16, 18, 20, 22, 24, 26, 28, 30, 32, 34, 36, 38, 40, 42, 44, 46, 48, 50, 52, 54, 56, 58, 60, 62, 64, 66, 68, 70, 72, 74, 76, 78, 80, 82, 84, 86, 88, 90, 92, 94, 96, 98, 100]\n"
     ]
    }
   ],
   "source": [
    "num=range(101)\n",
    "ev_num=filter(lambda i:i%2==0,num)\n",
    "print(list(ev_num))"
   ]
  },
  {
   "cell_type": "code",
   "execution_count": 3,
   "metadata": {},
   "outputs": [],
   "source": [
    "\n",
    "def reverse(num):\n",
    "    num_len=len(str(num))\n",
    "    r=0\n",
    "    for i in range(num_len):\n",
    "        n=num%10\n",
    "        r=r*10+n\n",
    "        num=int(num/10)\n",
    "    return r"
   ]
  },
  {
   "cell_type": "code",
   "execution_count": 4,
   "metadata": {},
   "outputs": [
    {
     "name": "stdout",
     "output_type": "stream",
     "text": [
      "[21, 433, 654, 321]\n"
     ]
    }
   ],
   "source": [
    "num_list=[12,334,456,123]\n",
    "rev_str=map(reverse,num_list)\n",
    "rev_list=list(rev_str)\n",
    "print(rev_list)\n"
   ]
  },
  {
   "cell_type": "code",
   "execution_count": 17,
   "metadata": {},
   "outputs": [
    {
     "name": "stdout",
     "output_type": "stream",
     "text": [
      "2 4 6 8 10 12 14 16 18 20 22 24 26 28 30 32 34 36 38 40 42 44 46 48 50 52 54 56 58 60 62 64 66 68 70 72 74 76 78 80 82 84 86 88 90 92 94 96 98 100 "
     ]
    }
   ],
   "source": [
    "for i in range(1,101):\n",
    "    if i%2==0:\n",
    "        print(i,end=\" \")"
   ]
  },
  {
   "cell_type": "code",
   "execution_count": 25,
   "metadata": {},
   "outputs": [
    {
     "name": "stdout",
     "output_type": "stream",
     "text": [
      "1 3 5 7 9 11 13 15 17 19 21 23 25 27 29 31 33 35 37 39 41 43 45 47 49 51 53 55 57 59 61 63 65 67 69 71 73 75 77 79 81 83 85 87 89 91 93 95 97 99 101 "
     ]
    }
   ],
   "source": [
    "i=1\n",
    "while i<=101:\n",
    "    if i%2!=0:\n",
    "        print(i,end=\" \")\n",
    "    i+=1 "
   ]
  },
  {
   "cell_type": "code",
   "execution_count": 26,
   "metadata": {},
   "outputs": [
    {
     "name": "stdout",
     "output_type": "stream",
     "text": [
      "2 4 6 8 10 12 14 16 18 20 22 24 26 28 30 32 34 36 38 40 42 44 46 48 50 52 54 56 58 60 62 64 66 68 70 72 74 76 78 80 82 84 86 88 90 92 94 96 98 100 "
     ]
    }
   ],
   "source": [
    "for i in range(2,101,2):\n",
    "    print(i,end=\" \")\n",
    "    "
   ]
  },
  {
   "cell_type": "code",
   "execution_count": 28,
   "metadata": {},
   "outputs": [
    {
     "name": "stdout",
     "output_type": "stream",
     "text": [
      "[1, 4, 9, 16, 25, 36, 49]\n"
     ]
    }
   ],
   "source": [
    "numlist=[1,2,3,4,5,6,7]\n",
    "sq_list=[]\n",
    "for i in numlist:\n",
    "        sq_list.append(i*i)\n",
    "print(sq_list)        "
   ]
  },
  {
   "cell_type": "code",
   "execution_count": 30,
   "metadata": {},
   "outputs": [
    {
     "name": "stdout",
     "output_type": "stream",
     "text": [
      "[1, 4, 9, 16, 25, 36, 49]\n"
     ]
    }
   ],
   "source": [
    "result=[i*i for i in numlist]\n",
    "print(result)"
   ]
  },
  {
   "cell_type": "code",
   "execution_count": 36,
   "metadata": {},
   "outputs": [
    {
     "name": "stdout",
     "output_type": "stream",
     "text": [
      "[1, 8, 27, 64, 125, 216, 343]\n"
     ]
    }
   ],
   "source": [
    "result=[i**3 for i in numlist]  \n",
    "print(result)"
   ]
  },
  {
   "cell_type": "code",
   "execution_count": 42,
   "metadata": {},
   "outputs": [
    {
     "name": "stdout",
     "output_type": "stream",
     "text": [
      "[16, 25, 36, 49, 64]\n"
     ]
    }
   ],
   "source": [
    "def square(num):\n",
    "    return num*num\n",
    "num_list=[4,5,6,7,8]\n",
    "sq_list=[]\n",
    "sq_list=map(square,num_list)\n",
    "print(list(sq_list))"
   ]
  },
  {
   "cell_type": "code",
   "execution_count": 44,
   "metadata": {},
   "outputs": [
    {
     "name": "stdout",
     "output_type": "stream",
     "text": [
      "[16, 25, 36, 49, 64]\n"
     ]
    }
   ],
   "source": [
    "num_list=[4,5,6,7,8]\n",
    "sq_list=[]\n",
    "sq_list=map(lambda x:x*x,num_list)\n",
    "print(list(sq_list))"
   ]
  },
  {
   "cell_type": "code",
   "execution_count": 47,
   "metadata": {},
   "outputs": [
    {
     "name": "stdout",
     "output_type": "stream",
     "text": [
      "[1, 3, 5, 7, 9, 11, 13, 15, 17, 19, 21, 23, 25, 27, 29, 31, 33, 35, 37, 39, 41, 43, 45, 47, 49, 51, 53, 55, 57, 59, 61, 63, 65, 67, 69, 71, 73, 75, 77, 79, 81, 83, 85, 87, 89, 91, 93, 95, 97, 99]\n"
     ]
    }
   ],
   "source": [
    "even_list=[]\n",
    "even_list=filter(lambda x:x%2!=0,range(101))\n",
    "print(list(even_list))"
   ]
  },
  {
   "cell_type": "code",
   "execution_count": 52,
   "metadata": {},
   "outputs": [
    {
     "name": "stdout",
     "output_type": "stream",
     "text": [
      "30\n"
     ]
    }
   ],
   "source": [
    "import functools\n",
    "num_list=[4,5,6,7,8]\n",
    "s=functools.reduce(lambda x,y:x+y,num_list)\n",
    "print(s)"
   ]
  },
  {
   "cell_type": "code",
   "execution_count": 54,
   "metadata": {},
   "outputs": [
    {
     "data": {
      "text/plain": [
       "8"
      ]
     },
     "execution_count": 54,
     "metadata": {},
     "output_type": "execute_result"
    }
   ],
   "source": [
    "max(num_list)"
   ]
  },
  {
   "cell_type": "code",
   "execution_count": 56,
   "metadata": {},
   "outputs": [
    {
     "data": {
      "text/plain": [
       "4"
      ]
     },
     "execution_count": 56,
     "metadata": {},
     "output_type": "execute_result"
    }
   ],
   "source": [
    "min(num_list)"
   ]
  },
  {
   "cell_type": "code",
   "execution_count": 58,
   "metadata": {},
   "outputs": [
    {
     "data": {
      "text/plain": [
       "30"
      ]
     },
     "execution_count": 58,
     "metadata": {},
     "output_type": "execute_result"
    }
   ],
   "source": [
    "sum(num_list)"
   ]
  },
  {
   "cell_type": "code",
   "execution_count": 63,
   "metadata": {},
   "outputs": [
    {
     "name": "stdout",
     "output_type": "stream",
     "text": [
      "8\n"
     ]
    }
   ],
   "source": [
    "import functools\n",
    "m=functools.reduce(lambda x,y: x if(x>y)else y,num_list)\n",
    "print(m)"
   ]
  },
  {
   "cell_type": "code",
   "execution_count": 67,
   "metadata": {},
   "outputs": [
    {
     "name": "stdout",
     "output_type": "stream",
     "text": [
      "120\n"
     ]
    }
   ],
   "source": [
    "num_list=[1,2,3,4,5]\n",
    "product=functools.reduce(lambda x,y:x*y,num_list)\n",
    "print(product)"
   ]
  },
  {
   "cell_type": "code",
   "execution_count": 72,
   "metadata": {},
   "outputs": [
    {
     "name": "stdout",
     "output_type": "stream",
     "text": [
      "\n",
      " enter the lower range:2\n",
      "\n",
      " enter the higher range:4\n",
      "[2, 4]\n"
     ]
    }
   ],
   "source": [
    "low=input(\"\\n enter the lower range:\")\n",
    "high=input(\"\\n enter the higher range:\")\n",
    "even_no=filter(lambda x:x%2==0,range(int(low),int(high)+1))\n",
    "print(list(even_no))"
   ]
  },
  {
   "cell_type": "code",
   "execution_count": null,
   "metadata": {},
   "outputs": [],
   "source": [
    "f=open(\"C:/python/practice/file.txt\",'r')\n",
    "x=f.readline()\n",
    "while(x!=\" \"):\n",
    "    print(x)\n",
    "    x=f.readline()\n"
   ]
  }
 ],
 "metadata": {
  "kernelspec": {
   "display_name": "Python 3",
   "language": "python",
   "name": "python3"
  },
  "language_info": {
   "codemirror_mode": {
    "name": "ipython",
    "version": 3
   },
   "file_extension": ".py",
   "mimetype": "text/x-python",
   "name": "python",
   "nbconvert_exporter": "python",
   "pygments_lexer": "ipython3",
   "version": "3.7.0"
  }
 },
 "nbformat": 4,
 "nbformat_minor": 2
}
